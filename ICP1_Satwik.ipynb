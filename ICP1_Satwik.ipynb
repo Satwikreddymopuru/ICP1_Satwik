{
 "cells": [
  {
   "cell_type": "code",
   "execution_count": 1,
   "id": "c3e6682f",
   "metadata": {},
   "outputs": [
    {
     "name": "stdout",
     "output_type": "stream",
     "text": [
      "Enter a string: satwik\n",
      "kiws\n"
     ]
    }
   ],
   "source": [
    "# Input the string as a list of characters\n",
    "input_string = list(input(\"Enter a string: \"))\n",
    "\n",
    "# Delete at least 2 characters\n",
    "if len(input_string) >= 2:\n",
    "    del input_string[1:3]  # Deleting characters at index 1 and 2\n",
    "\n",
    "# Reverse the resultant string\n",
    "resultant_string = ''.join(input_string[::-1])\n",
    "\n",
    "# Print the reversed string\n",
    "print(resultant_string)"
   ]
  },
  {
   "cell_type": "code",
   "execution_count": 5,
   "id": "00ba8efa",
   "metadata": {},
   "outputs": [
    {
     "name": "stdout",
     "output_type": "stream",
     "text": [
      "Enter the first number: 5\n",
      "Enter the second number: 9\n",
      "Addition: 14.0\n",
      "Subtraction: -4.0\n",
      "Multiplication: 45.0\n",
      "Division: 0.5555555555555556\n"
     ]
    }
   ],
   "source": [
    "# Taking two numbers from the user\n",
    "num1 = float(input(\"Enter the first number: \"))\n",
    "num2 = float(input(\"Enter the second number: \"))\n",
    "\n",
    "# Perform arithmetic operations\n",
    "addition = num1 + num2\n",
    "subtraction = num1 - num2\n",
    "multiplication = num1 * num2\n",
    "division = num1 / num2\n",
    "\n",
    "# Print the results of arithmetic operations\n",
    "print(\"Addition:\", addition)\n",
    "print(\"Subtraction:\", subtraction)\n",
    "print(\"Multiplication:\", multiplication)\n",
    "print(\"Division:\", division)"
   ]
  },
  {
   "cell_type": "code",
   "execution_count": 2,
   "id": "1930aa2d",
   "metadata": {},
   "outputs": [
    {
     "name": "stdout",
     "output_type": "stream",
     "text": [
      "Enter a sentence: satwik loves python as python codes are easy \n",
      "satwik loves pythons as pythons codes are easy \n"
     ]
    }
   ],
   "source": [
    "# Accept a sentence from the user\n",
    "input_sentence = input(\"Enter a sentence: \")\n",
    "\n",
    "# Replace 'python' with 'pythons'\n",
    "output_sentence = input_sentence.replace('python', 'pythons')\n",
    "\n",
    "# Print the modified sentence\n",
    "print(output_sentence)"
   ]
  },
  {
   "cell_type": "code",
   "execution_count": 3,
   "id": "ba00f691",
   "metadata": {},
   "outputs": [
    {
     "name": "stdout",
     "output_type": "stream",
     "text": [
      "Enter the class score: 92\n",
      "Letter Grade: A\n"
     ]
    }
   ],
   "source": [
    "# Input the class score from the user\n",
    "class_score = int(input(\"Enter the class score: \"))\n",
    "\n",
    "# Determine the letter grade based on the score\n",
    "if class_score >= 90:\n",
    "    grade = \"A\"\n",
    "elif class_score >= 80:\n",
    "    grade = \"B\"\n",
    "elif class_score >= 70:\n",
    "    grade = \"C\"\n",
    "elif class_score >= 60:\n",
    "    grade = \"D\"\n",
    "else:\n",
    "    grade = \"F\"\n",
    "\n",
    "# Print the letter grade\n",
    "print(\"Letter Grade:\", grade)"
   ]
  }
 ],
 "metadata": {
  "kernelspec": {
   "display_name": "Python 3 (ipykernel)",
   "language": "python",
   "name": "python3"
  },
  "language_info": {
   "codemirror_mode": {
    "name": "ipython",
    "version": 3
   },
   "file_extension": ".py",
   "mimetype": "text/x-python",
   "name": "python",
   "nbconvert_exporter": "python",
   "pygments_lexer": "ipython3",
   "version": "3.9.13"
  }
 },
 "nbformat": 4,
 "nbformat_minor": 5
}
